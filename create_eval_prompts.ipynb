{
 "cells": [
  {
   "cell_type": "markdown",
   "metadata": {},
   "source": [
    "## Load the Data"
   ]
  },
  {
   "cell_type": "code",
   "execution_count": 1,
   "metadata": {},
   "outputs": [],
   "source": [
    "import pandas as pd\n",
    "import config\n",
    "\n",
    "df_test = pd.read_csv(config.SBIC_TEST_PATH)\n",
    "df_dev = pd.read_csv(config.SBIC_DEV_PATH)"
   ]
  },
  {
   "cell_type": "markdown",
   "metadata": {},
   "source": [
    "## Aggregate the Data and Format the Prompts"
   ]
  },
  {
   "cell_type": "code",
   "execution_count": 2,
   "metadata": {},
   "outputs": [
    {
     "data": {
      "text/plain": [
       "(4698, 4673)"
      ]
     },
     "execution_count": 2,
     "metadata": {},
     "output_type": "execute_result"
    }
   ],
   "source": [
    "from utils.helper import clean_post, create_md5_hash\n",
    "from typing import Dict\n",
    "\n",
    "\n",
    "def format_prompts_and_labels(df: pd.DataFrame) -> Dict[str, dict]:\n",
    "    lookup = {}\n",
    "\n",
    "    for _, row in df.iterrows():\n",
    "        md5_hash = create_md5_hash(row[\"post\"])\n",
    "\n",
    "        if md5_hash not in lookup:\n",
    "            lookup[md5_hash] = {\n",
    "                \"prompt\": config.GENERATION_TEMPLATE.format(\n",
    "                    post=clean_post(row[\"post\"])\n",
    "                ),\n",
    "                \"post\": clean_post(row[\"post\"]),\n",
    "                \"md5_hash\": md5_hash,\n",
    "                \"lewd\": [],\n",
    "                \"off\": [],\n",
    "                \"intention\": [],\n",
    "                \"grp\": [],\n",
    "                \"ing\": [],\n",
    "                \"group\": [],\n",
    "                \"statement\": [],\n",
    "            }\n",
    "\n",
    "        # add labels to the lookup\n",
    "        lookup[md5_hash][\"lewd\"].extend([1] if row[\"sexYN\"] == 1.0 else [0])\n",
    "        lookup[md5_hash][\"off\"].extend([1] if row[\"offensiveYN\"] == 1.0 else [0])\n",
    "        lookup[md5_hash][\"intention\"].extend([1] if row[\"intentYN\"] == 1.0 else [0])\n",
    "        lookup[md5_hash][\"grp\"].extend([1] if row[\"targetMinority\"] else [0])\n",
    "        lookup[md5_hash][\"ing\"].extend([1] if row[\"speakerMinorityYN\"] == 1.0 else [0])\n",
    "\n",
    "        if (\n",
    "            isinstance(row[\"targetMinority\"], str)\n",
    "            and row[\"targetMinority\"] not in lookup[md5_hash][\"group\"]\n",
    "        ):\n",
    "            lookup[md5_hash][\"group\"].append(row[\"targetMinority\"])\n",
    "        if (\n",
    "            isinstance(row[\"targetStereotype\"], str)\n",
    "            and row[\"targetStereotype\"] not in lookup[md5_hash][\"statement\"]\n",
    "        ):\n",
    "            lookup[md5_hash][\"statement\"].append(row[\"targetStereotype\"])\n",
    "\n",
    "    return lookup\n",
    "\n",
    "\n",
    "test_dict = format_prompts_and_labels(df_test)\n",
    "dev_dict = format_prompts_and_labels(df_dev)\n",
    "\n",
    "len(test_dict), len(dev_dict)"
   ]
  },
  {
   "cell_type": "markdown",
   "metadata": {},
   "source": [
    "## Re-Binaries the Categorical Variables"
   ]
  },
  {
   "cell_type": "code",
   "execution_count": 3,
   "metadata": {},
   "outputs": [],
   "source": [
    "import numpy as np\n",
    "\n",
    "\n",
    "def re_binarize_variables(post_dict: dict, threshold: float = 0.5) -> Dict[str, dict]:\n",
    "    for _, value_dict in post_dict.items():\n",
    "        for key, value in value_dict.items():\n",
    "            # skip text variables\n",
    "            if key in [\"post\", \"group\", \"statement\", \"prompt\", \"md5_hash\"]:\n",
    "                continue\n",
    "\n",
    "            # re-binarizing the variables based on the threshold (default 0.5)\n",
    "            value_dict[key] = 1 if np.mean(value) > threshold else 0\n",
    "\n",
    "    return post_dict\n",
    "\n",
    "\n",
    "test_dict = re_binarize_variables(test_dict)\n",
    "dev_dict = re_binarize_variables(dev_dict)"
   ]
  },
  {
   "cell_type": "markdown",
   "metadata": {},
   "source": [
    "## Write Results to CSV"
   ]
  },
  {
   "cell_type": "code",
   "execution_count": 4,
   "metadata": {},
   "outputs": [],
   "source": [
    "df_test = pd.DataFrame(test_dict).T\n",
    "df_dev = pd.DataFrame(dev_dict).T\n",
    "\n",
    "df_test.to_csv(\"tmp/test_eval_prompts.csv\", index=False)\n",
    "df_dev.to_csv(\"tmp/dev_eval_prompts.csv\", index=False)"
   ]
  }
 ],
 "metadata": {
  "kernelspec": {
   "display_name": "social_bias_frames",
   "language": "python",
   "name": "python3"
  },
  "language_info": {
   "codemirror_mode": {
    "name": "ipython",
    "version": 3
   },
   "file_extension": ".py",
   "mimetype": "text/x-python",
   "name": "python",
   "nbconvert_exporter": "python",
   "pygments_lexer": "ipython3",
   "version": "3.11.4"
  }
 },
 "nbformat": 4,
 "nbformat_minor": 2
}
